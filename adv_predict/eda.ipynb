{
 "cells": [
  {
   "cell_type": "code",
   "execution_count": null,
   "metadata": {},
   "outputs": [],
   "source": [
    "import duckdb as db\n",
    "import polars as pl\n",
    "import pandas as pd\n",
    "from pathlib import Path"
   ]
  },
  {
   "cell_type": "code",
   "execution_count": null,
   "metadata": {},
   "outputs": [],
   "source": [
    "data_dir = Path(\"/home/sean/Projects/streambt/full_df_2_exit.parquet/\")\n",
    "full_df = pd.concat(\n",
    "    pd.read_parquet(parquet_file)\n",
    "    for parquet_file in data_dir.glob('*.parquet')\n",
    ")"
   ]
  },
  {
   "cell_type": "code",
   "execution_count": null,
   "metadata": {},
   "outputs": [],
   "source": [
    "full_df.columns"
   ]
  },
  {
   "cell_type": "markdown",
   "metadata": {},
   "source": [
    "# pca check"
   ]
  },
  {
   "cell_type": "code",
   "execution_count": null,
   "metadata": {},
   "outputs": [],
   "source": [
    "from sklearn.decomposition import PCA\n",
    "from sklearn.preprocessing import Normalizer\n",
    "from sklearn.pipeline import Pipeline\n",
    "for year in range(2010,2022):\n",
    "    feature_target = db.sql(\n",
    "    f\"\"\"\n",
    "    with stg as (\n",
    "    select \n",
    "        TMF_w\n",
    "        , TMF_4w_min\n",
    "        , TMF_4w_min_dd\n",
    "        , TMF_26w_min\n",
    "        , TMF_26w_min_dd\n",
    "        , TMF_4w_min_dd_qtl_50\n",
    "        , TMF_4w_min_dd_qtl_50_alt\n",
    "        , TMF_26w_min_dd_qtl_50\n",
    "        , TMF_26w_min_dd_qtl_50_alt \n",
    "        , TMF_Simple_Signal\n",
    "        , macd_hof\n",
    "        , macd_signal_hof\n",
    "        , stddev_samp(log(Volume+1)) over (partition by Ticker order by Date rows between 5*52 preceding and current row) as std_vol\n",
    "        , log(Volume + 1)\n",
    "        --, macd_w_hof\n",
    "        --, macd_w_signal_hof\n",
    "        --, Volume\n",
    "        , dayofweek(Date) as day_of_week\n",
    "        , Date\n",
    "        , Ticker\n",
    "        , gain_loss_ratio > 1.01 as target\n",
    "        , case \n",
    "            when gain_loss_ratio2 > 1.1 then 2 \n",
    "            when gain_loss_ratio2 > 1.05 then 1 \n",
    "            when gain_loss_ratio2 > 1 then 0\n",
    "            else -1 \n",
    "        end as target2\n",
    "        , gain_loss_ratio2\n",
    "    from full_df\n",
    "    )\n",
    "    select *\n",
    "    from stg\n",
    "    where TMF_Simple_Signal = 1\n",
    "    and TMF_w < 1 and TMF_w > -1\n",
    "    and macd_hof < 1 and macd_hof > -1\n",
    "    and std_vol > 0\n",
    "    --and Ticker in string \n",
    "    \"\"\"\n",
    "    )\n",
    "    train = db.sql(f\"select * from feature_target where year(Date) in ({year})\").df().dropna()\n",
    "\n",
    "    f = Pipeline(steps=[('normalize',Normalizer()),('pca', PCA())])\n",
    "    train_input = train.drop(columns = ['Date', 'Ticker', 'target',  'target2', 'gain_loss_ratio2'])\n",
    "    res = f.fit_transform(train_input)\n",
    "\n",
    "\n",
    "    focus = pd.DataFrame(res[:,:2],columns=['pc1','pc2'])\n",
    "    focus['target'] = train['target']\n",
    "    focus['target2'] = train['target2']\n",
    "    focus['gain_loss_ratio2'] = train['gain_loss_ratio2']\n",
    "    #focus['gain_loss_ratio'] = train\n",
    "    import plotly.express as px\n",
    "    ax = px.scatter(focus, x = 'pc1', y= 'pc2', color = 'target2', title= year)\n",
    "    ax.show()\n",
    "    #ax = px.scatter(focus, x = 'pc1', y= 'pc2', color = 'gain_loss_ratio2', title= year)\n",
    "    #ax.show()"
   ]
  },
  {
   "cell_type": "markdown",
   "metadata": {},
   "source": [
    "# clustering"
   ]
  },
  {
   "cell_type": "code",
   "execution_count": null,
   "metadata": {},
   "outputs": [],
   "source": [
    "from sklearn.cluster import HDBSCAN\n",
    "\n",
    "for year in range(2010,2011):\n",
    "    feature_target = db.sql(\n",
    "    f\"\"\"\n",
    "    with stg as (\n",
    "    select \n",
    "        TMF_w\n",
    "        , TMF_4w_min\n",
    "        , TMF_4w_min_dd\n",
    "        , TMF_26w_min\n",
    "        , TMF_26w_min_dd\n",
    "        , TMF_4w_min_dd_qtl_50\n",
    "        , TMF_4w_min_dd_qtl_50_alt\n",
    "        , TMF_26w_min_dd_qtl_50\n",
    "        , TMF_26w_min_dd_qtl_50_alt \n",
    "        , TMF_Simple_Signal\n",
    "        , macd_hof\n",
    "        , macd_signal_hof\n",
    "        , stddev_samp(log(Volume+1)) over (partition by Ticker order by Date rows between 5*52 preceding and current row) as std_vol\n",
    "        , log(Volume + 1)\n",
    "        --, macd_w_hof\n",
    "        --, macd_w_signal_hof\n",
    "        --, Volume\n",
    "        , dayofweek(Date) as day_of_week\n",
    "        , Date\n",
    "        , Ticker\n",
    "        , gain_loss_ratio > 1.01 as target\n",
    "        , case \n",
    "            when gain_loss_ratio2 > 1.1 then 2 \n",
    "            when gain_loss_ratio2 > 1.05 then 1 \n",
    "            when gain_loss_ratio2 > 1 then 0\n",
    "            else -1 \n",
    "        end as target2\n",
    "        , gain_loss_ratio2\n",
    "    from full_df\n",
    "    )\n",
    "    select *\n",
    "    from stg\n",
    "    where TMF_Simple_Signal = 1\n",
    "    and TMF_w < 1 and TMF_w > -1\n",
    "    and macd_hof < 1 and macd_hof > -1\n",
    "    and std_vol > 0\n",
    "    --and Ticker in string \n",
    "    \"\"\"\n",
    "    )\n",
    "    train = db.sql(f\"select * from feature_target where year(Date) in ({year})\").df().dropna()\n",
    "    f = HDBSCAN()\n",
    "    train_input = train.drop(columns = ['Date', 'Ticker', 'target',  'target2', 'gain_loss_ratio2'])\n",
    "    res = f.fit_predict(train_input)\n",
    "    focus = train\n",
    "    focus['cluster'] = res\n",
    "    #display(db.sql(\"select cluster, target2, count(*) as cnt from focus group by cluster, target2 order by target2, cluster\").df())\n",
    "    display(db.sql(\"select cluster, target2, count(*) as cnt from focus group by cluster, target2 order by cluster, cnt desc\").df())"
   ]
  },
  {
   "cell_type": "markdown",
   "metadata": {},
   "source": [
    "# drop outliers as well before pca?"
   ]
  },
  {
   "cell_type": "code",
   "execution_count": null,
   "metadata": {},
   "outputs": [],
   "source": [
    "from sklearn.decomposition import PCA\n",
    "from sklearn.preprocessing import Normalizer\n",
    "from sklearn.pipeline import Pipeline\n",
    "f = Pipeline(steps=[('normalize',Normalizer()),('pca', PCA())])\n",
    "train_input = train.drop(columns = ['Date', 'Ticker', 'target',  'target2'])\n",
    "res = f.fit_transform(train_input)"
   ]
  },
  {
   "cell_type": "code",
   "execution_count": null,
   "metadata": {},
   "outputs": [],
   "source": [
    "f.named_steps['pca'].explained_variance_"
   ]
  },
  {
   "cell_type": "code",
   "execution_count": null,
   "metadata": {},
   "outputs": [],
   "source": [
    "focus = pd.DataFrame(res[:,:2],columns=['pc1','pc2'])\n",
    "focus['target'] = train['target']\n",
    "focus['target2'] = train['target2']\n",
    "#focus['gain_loss_ratio'] = train\n",
    "import plotly.express as px\n",
    "ax = px.scatter(focus, x = 'pc1', y= 'pc2', color = 'target2')\n",
    "ax.show()\n",
    "ax = px.scatter(focus, x = 'pc1', y= 'pc2', color = 'target')\n",
    "ax.show()\n"
   ]
  },
  {
   "cell_type": "code",
   "execution_count": null,
   "metadata": {},
   "outputs": [],
   "source": [
    "import plotly.express as px\n",
    "stg1 = db.sql(\"select *, year(Date) as year from full_df\").df()\n",
    "subset = stg1\n",
    "subset = subset[(subset['TMF_w']!=0) & (subset['TMF_w']<1) & (subset['TMF_w']>-1) ]\n",
    "#subset = subset[(subset['TMF_w']!=0)]\n",
    "#px.histogram(subset, x = 'TMF_w', color='year', marginal = 'box')\n",
    "px.box(subset, x = 'year', y = 'TMF_w', points = False)"
   ]
  },
  {
   "cell_type": "code",
   "execution_count": null,
   "metadata": {},
   "outputs": [],
   "source": [
    "import plotly.express as px\n",
    "var = db.sql(\"select quantile(macd_hof,0.01), quantile(macd_hof,0.99), quantile(macd_hof,0.05), quantile(macd_hof,0.95) from full_df\").df()\n",
    "var\n",
    "#subset = stg1\n",
    "#px.histogram(subset, x = 'macd_hof')\n",
    "#px.box(subset, x = 'year', y = 'macd_hof', points = False)"
   ]
  },
  {
   "cell_type": "code",
   "execution_count": null,
   "metadata": {},
   "outputs": [],
   "source": [
    "#subset = db.sql(\"select * from full_df where macd_hof > -0.16 and macd_hof < 0.13\").df()\n",
    "subset = db.sql(\"select * from full_df where macd_hof > -2.73 and macd_hof < 1.158\").df()\n",
    "px.histogram(subset, x = 'macd_hof')"
   ]
  },
  {
   "cell_type": "code",
   "execution_count": null,
   "metadata": {},
   "outputs": [],
   "source": [
    "len(subset)"
   ]
  },
  {
   "cell_type": "code",
   "execution_count": null,
   "metadata": {},
   "outputs": [],
   "source": [
    "import plotly.express as px\n",
    "stg1 = db.sql(\"select *, year(Date) as year from full_df where Ticker = 'CBA.AX'\").df()\n",
    "subset = stg1\n",
    "#subset = subset[(subset['TMF_w']!=0) & (subset['TMF_w']<1) & (subset['TMF_w']>-1) ]\n",
    "subset = subset[(subset['TMF_w']!=0)]\n",
    "#px.histogram(subset, x = 'TMF_w', color='year', marginal = 'box')\n",
    "px.box(subset, x = 'year', y = 'TMF_w', points = False)"
   ]
  },
  {
   "cell_type": "code",
   "execution_count": null,
   "metadata": {},
   "outputs": [],
   "source": [
    "import plotly.express as px\n",
    "stg1 = db.sql(\"select *, year(Date) as year from full_df where Ticker = 'MEZ.AX'\").df()\n",
    "subset = stg1\n",
    "#subset = subset[(subset['TMF_w']!=0) & (subset['TMF_w']<1) & (subset['TMF_w']>-1) ]\n",
    "subset = subset[(subset['TMF_w']!=0)]\n",
    "#px.histogram(subset, x = 'TMF_w', color='year', marginal = 'box')\n",
    "px.box(subset, x = 'year', y = 'TMF_w', points = False)"
   ]
  },
  {
   "cell_type": "code",
   "execution_count": null,
   "metadata": {},
   "outputs": [],
   "source": [
    "stg1 = db.sql(\n",
    "\"\"\"\n",
    "select count\n",
    "from full_df\n",
    "\"\"\")"
   ]
  },
  {
   "cell_type": "code",
   "execution_count": null,
   "metadata": {},
   "outputs": [],
   "source": [
    "agg_by_ticker = db.sql(\"select max(TMF_w) as max_c, min(TMF_w) as min_c, year(Date) as year, Ticker from full_df group by year(Date), Ticker\")\n",
    "import plotly.express as px\n",
    "ax = px.scatter(agg_by_ticker, x = 'max_c', y = 'min_c', color = 'year', hover_name='Ticker')\n",
    "ax.show()\n"
   ]
  },
  {
   "cell_type": "code",
   "execution_count": null,
   "metadata": {},
   "outputs": [],
   "source": [
    "focus = db.sql(\n",
    "\"\"\"\n",
    "select *\n",
    "from full_df \n",
    "where Ticker = 'MEZ.AX'\n",
    "and year(Date) = 2014\n",
    "\"\"\").df()\n",
    "\n",
    "px.line(focus, x = 'Date', y=['Close','Volume'])"
   ]
  },
  {
   "cell_type": "code",
   "execution_count": null,
   "metadata": {},
   "outputs": [],
   "source": [
    "db.sql(\n",
    "\"\"\"\n",
    "select max(tmf_w), min(tmf_w), median(tmf_w)\n",
    ", quantile(tmf_w,0.1)\n",
    ", quantile(tmf_w,0.2)\n",
    ", quantile(tmf_w,0.3)\n",
    ", quantile(tmf_w,0.4)\n",
    "from full_df \n",
    "where Ticker = 'MEZ.AX'\n",
    "and year(Date) = 2014\n",
    "\"\"\")\n"
   ]
  },
  {
   "cell_type": "code",
   "execution_count": null,
   "metadata": {},
   "outputs": [],
   "source": []
  }
 ],
 "metadata": {
  "language_info": {
   "name": "python",
   "pygments_lexer": "ipython3"
  }
 },
 "nbformat": 4,
 "nbformat_minor": 2
}
