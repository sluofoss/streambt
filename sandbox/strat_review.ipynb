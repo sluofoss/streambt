{
 "cells": [
  {
   "cell_type": "code",
   "execution_count": null,
   "metadata": {},
   "outputs": [],
   "source": [
    "from pathlib import Path\n",
    "import pandas as pd\n",
    "\n",
    "data_dir = Path(\"/home/sean/Projects/streambt/full_trade_opportunities.parquet/\")\n",
    "full_df = pd.concat(\n",
    "    pd.read_parquet(parquet_file)\n",
    "    for parquet_file in data_dir.glob('*.parquet')\n",
    ")"
   ]
  },
  {
   "cell_type": "code",
   "execution_count": null,
   "metadata": {},
   "outputs": [],
   "source": [
    "full_df"
   ]
  },
  {
   "cell_type": "code",
   "execution_count": null,
   "metadata": {},
   "outputs": [],
   "source": [
    "import duckdb as db\n",
    "win_loss_ratio_ordered = db.sql(\n",
    "\"\"\"\n",
    "    select \n",
    "        *\n",
    "        , \"trade won\"/\"trade loss\" as win_loss_ratio\n",
    "        , dense_rank() over (partition by \"year(Date)\" order by win_loss_ratio desc) as drnk\n",
    "    from full_df\n",
    "\"\"\"\n",
    ")\n",
    "ticker_with_good_year_stat = db.sql(\n",
    "\"\"\"\n",
    "    select * \n",
    "    from win_loss_ratio_ordered\n",
    "    where drnk < 10 and \"average trade return\" >= 1.05 and win_loss_ratio > 2 ---and \"year(Date)\" <= 2020\n",
    "    --order by \"year(Date)\", win_loss_ratio desc\n",
    "\"\"\"\n",
    ") \n",
    "# verify tickers with good occurrance count\n",
    "occ_of_ticker = db.sql(\n",
    "\"\"\"\n",
    "    select count(*) as occurrance, Ticker\n",
    "    from ticker_with_good_year_stat\n",
    "    group by Ticker\n",
    "    --order by occurrance desc\n",
    "\"\"\"\n",
    ")\n",
    "# subsequent binning\n",
    "binning = db.sql(\n",
    "\"\"\"\n",
    "select count(*) as val, occurrance\n",
    "from occ_of_ticker\n",
    "group by occurrance\n",
    "order by occurrance asc\n",
    "\"\"\"\n",
    ").df()\n",
    "\n",
    "filter_for_consistently_good_ticker = db.sql(\"\"\"select * from occ_of_ticker where occurrance >= 10 order by occurrance desc\"\"\")\n",
    "print(\"cnt of consistently good tickers\\n\", db.sql(\"select count(*) from filter_for_consistently_good_ticker\"))\n",
    "\n",
    "# verify the yoy performance of these stocks\n",
    "filter_performance_verification = db.sql(\n",
    "\"\"\"\n",
    "select *\n",
    "from win_loss_ratio_ordered t\n",
    "inner join filter_for_consistently_good_ticker f on t.Ticker = f.Ticker \n",
    "order by \"year(Date)\", win_loss_ratio desc\n",
    "\"\"\"\n",
    ")\n",
    "\n",
    "import plotly.express as px\n",
    "ax = px.bar(binning,x='occurrance',y='val')\n",
    "ax.show()\n",
    "with pd.option_context('display.max_rows', None, 'display.max_columns', None):\n",
    "    #display(filter_for_consistently_good_ticker.df())\n",
    "    display(filter_performance_verification.df())\n",
    "    "
   ]
  },
  {
   "cell_type": "code",
   "execution_count": null,
   "metadata": {},
   "outputs": [],
   "source": []
  }
 ],
 "metadata": {
  "language_info": {
   "name": "python",
   "pygments_lexer": "ipython3"
  }
 },
 "nbformat": 4,
 "nbformat_minor": 2
}
