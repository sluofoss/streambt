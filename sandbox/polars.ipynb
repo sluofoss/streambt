{
 "cells": [
  {
   "cell_type": "code",
   "execution_count": 32,
   "metadata": {},
   "outputs": [],
   "source": [
    "import polars as pl\n",
    "import polars.datatypes as DTypes"
   ]
  },
  {
   "cell_type": "code",
   "execution_count": 6,
   "metadata": {},
   "outputs": [
    {
     "data": {
      "text/html": [
       "<div><style>\n",
       ".dataframe > thead > tr,\n",
       ".dataframe > tbody > tr {\n",
       "  text-align: right;\n",
       "  white-space: pre-wrap;\n",
       "}\n",
       "</style>\n",
       "<small>shape: (3, 2)</small><table border=\"1\" class=\"dataframe\"><thead><tr><th>a</th><th>arg_max</th></tr><tr><td>array[i64, 4]</td><td>u32</td></tr></thead><tbody><tr><td>[1, 2, … 3]</td><td>2</td></tr><tr><td>[2, 1, … 3]</td><td>2</td></tr><tr><td>[1, 3, … 2]</td><td>1</td></tr></tbody></table></div>"
      ],
      "text/plain": [
       "shape: (3, 2)\n",
       "┌───────────────┬─────────┐\n",
       "│ a             ┆ arg_max │\n",
       "│ ---           ┆ ---     │\n",
       "│ array[i64, 4] ┆ u32     │\n",
       "╞═══════════════╪═════════╡\n",
       "│ [1, 2, … 3]   ┆ 2       │\n",
       "│ [2, 1, … 3]   ┆ 2       │\n",
       "│ [1, 3, … 2]   ┆ 1       │\n",
       "└───────────────┴─────────┘"
      ]
     },
     "execution_count": 6,
     "metadata": {},
     "output_type": "execute_result"
    }
   ],
   "source": [
    "df = pl.DataFrame(\n",
    "    {\n",
    "        \"a\": [[1, 2,3,3], [2, 1,3,3], [1,3,3,2]],\n",
    "    },\n",
    "    schema={\"a\": pl.Array(pl.Int64, 4)},\n",
    ")\n",
    "df.with_columns(arg_max=pl.col(\"a\").arr.arg_max())"
   ]
  },
  {
   "cell_type": "code",
   "execution_count": 11,
   "metadata": {},
   "outputs": [
    {
     "data": {
      "text/html": [
       "<div><style>\n",
       ".dataframe > thead > tr,\n",
       ".dataframe > tbody > tr {\n",
       "  text-align: right;\n",
       "  white-space: pre-wrap;\n",
       "}\n",
       "</style>\n",
       "<small>shape: (3, 3)</small><table border=\"1\" class=\"dataframe\"><thead><tr><th>a</th><th>test</th><th>meme</th></tr><tr><td>array[i64, 4]</td><td>array[f64, 4]</td><td>u32</td></tr></thead><tbody><tr><td>[1, 2, … 3]</td><td>[0.5, 1.0, … 1.5]</td><td>2</td></tr><tr><td>[2, 1, … 3]</td><td>[1.0, 0.5, … 1.5]</td><td>2</td></tr><tr><td>[1, 3, … 2]</td><td>[0.5, 1.5, … 1.0]</td><td>1</td></tr></tbody></table></div>"
      ],
      "text/plain": [
       "shape: (3, 3)\n",
       "┌───────────────┬───────────────────┬──────┐\n",
       "│ a             ┆ test              ┆ meme │\n",
       "│ ---           ┆ ---               ┆ ---  │\n",
       "│ array[i64, 4] ┆ array[f64, 4]     ┆ u32  │\n",
       "╞═══════════════╪═══════════════════╪══════╡\n",
       "│ [1, 2, … 3]   ┆ [0.5, 1.0, … 1.5] ┆ 2    │\n",
       "│ [2, 1, … 3]   ┆ [1.0, 0.5, … 1.5] ┆ 2    │\n",
       "│ [1, 3, … 2]   ┆ [0.5, 1.5, … 1.0] ┆ 1    │\n",
       "└───────────────┴───────────────────┴──────┘"
      ]
     },
     "execution_count": 11,
     "metadata": {},
     "output_type": "execute_result"
    }
   ],
   "source": [
    "df.with_columns(test=pl.col('a')/2).with_columns(meme=pl.col(\"test\").arr.arg_max())"
   ]
  },
  {
   "cell_type": "markdown",
   "metadata": {},
   "source": [
    "# try to mimick window behavior"
   ]
  },
  {
   "cell_type": "code",
   "execution_count": 53,
   "metadata": {},
   "outputs": [
    {
     "data": {
      "text/html": [
       "<div><style>\n",
       ".dataframe > thead > tr,\n",
       ".dataframe > tbody > tr {\n",
       "  text-align: right;\n",
       "  white-space: pre-wrap;\n",
       "}\n",
       "</style>\n",
       "<small>shape: (2, 1)</small><table border=\"1\" class=\"dataframe\"><thead><tr><th>group</th></tr><tr><td>i64</td></tr></thead><tbody><tr><td>2</td></tr><tr><td>1</td></tr></tbody></table></div>"
      ],
      "text/plain": [
       "shape: (2, 1)\n",
       "┌───────┐\n",
       "│ group │\n",
       "│ ---   │\n",
       "│ i64   │\n",
       "╞═══════╡\n",
       "│ 2     │\n",
       "│ 1     │\n",
       "└───────┘"
      ]
     },
     "execution_count": 53,
     "metadata": {},
     "output_type": "execute_result"
    }
   ],
   "source": [
    "df = pl.DataFrame(\n",
    "    {\n",
    "        \"id\": [1,2,3,1,2,3],\n",
    "        \"group\": [1,1,1,2,2,2],\n",
    "        \"val\": [1,2,3,5,6,4]\n",
    "    },\n",
    "    #schema={\"a\": pl.Array(pl.Int64, 4)},\n",
    ")\n",
    "df.with_columns(\n",
    "    asdf=pl.col('val').over('group')\n",
    "\n",
    "    #.rolling(index_column='id',period='2i')\n",
    "    \n",
    "    #over(partition_by=[pl.col('group')], order_by=pl.col('id'), mapping_strategy='join') \n",
    ")\n",
    "\n",
    "df.group_by([pl.col('group')]).agg()\n"
   ]
  },
  {
   "cell_type": "markdown",
   "metadata": {},
   "source": [
    "# conversion sandpit"
   ]
  },
  {
   "cell_type": "code",
   "execution_count": 27,
   "metadata": {},
   "outputs": [
    {
     "data": {
      "text/plain": [
       "'/home/sean/Projects/streambt/sandbox'"
      ]
     },
     "execution_count": 27,
     "metadata": {},
     "output_type": "execute_result"
    }
   ],
   "source": [
    "%pwd"
   ]
  },
  {
   "cell_type": "code",
   "execution_count": 40,
   "metadata": {},
   "outputs": [
    {
     "data": {
      "text/html": [
       "<div><style>\n",
       ".dataframe > thead > tr,\n",
       ".dataframe > tbody > tr {\n",
       "  text-align: right;\n",
       "  white-space: pre-wrap;\n",
       "}\n",
       "</style>\n",
       "<small>shape: (6_278_235, 10)</small><table border=\"1\" class=\"dataframe\"><thead><tr><th>Date</th><th>Ticker</th><th>Adj Close</th><th>Close</th><th>Dividends</th><th>High</th><th>Low</th><th>Open</th><th>Stock Splits</th><th>Volume</th></tr><tr><td>datetime[ns]</td><td>str</td><td>f64</td><td>f64</td><td>f64</td><td>f64</td><td>f64</td><td>f64</td><td>f64</td><td>f64</td></tr></thead><tbody><tr><td>2000-01-03 00:00:00</td><td>&quot;AFI.AX&quot;</td><td>null</td><td>1.004347</td><td>0.0</td><td>1.004347</td><td>1.004347</td><td>1.004347</td><td>0.0</td><td>0.0</td></tr><tr><td>2000-01-03 00:00:00</td><td>&quot;AIA.AX&quot;</td><td>null</td><td>0.317168</td><td>0.0</td><td>0.317168</td><td>0.317168</td><td>0.317168</td><td>0.0</td><td>0.0</td></tr><tr><td>2000-01-03 00:00:00</td><td>&quot;AIZ.AX&quot;</td><td>null</td><td>1.693198</td><td>0.0</td><td>1.693198</td><td>1.693198</td><td>1.693198</td><td>0.0</td><td>0.0</td></tr><tr><td>2000-01-03 00:00:00</td><td>&quot;ALD.AX&quot;</td><td>null</td><td>1.027567</td><td>0.0</td><td>1.027567</td><td>1.027567</td><td>1.027567</td><td>0.0</td><td>0.0</td></tr><tr><td>2000-01-03 00:00:00</td><td>&quot;ALL.AX&quot;</td><td>null</td><td>3.0692</td><td>0.0</td><td>3.0692</td><td>3.0692</td><td>3.0692</td><td>0.0</td><td>0.0</td></tr><tr><td>&hellip;</td><td>&hellip;</td><td>&hellip;</td><td>&hellip;</td><td>&hellip;</td><td>&hellip;</td><td>&hellip;</td><td>&hellip;</td><td>&hellip;</td><td>&hellip;</td></tr><tr><td>2025-01-29 00:00:00</td><td>&quot;XPN.AX&quot;</td><td>null</td><td>0.013</td><td>0.0</td><td>0.014</td><td>0.011</td><td>0.014</td><td>0.0</td><td>2.291821e6</td></tr><tr><td>2025-01-29 00:00:00</td><td>&quot;YAR.AX&quot;</td><td>null</td><td>0.004</td><td>0.0</td><td>0.004</td><td>0.004</td><td>0.004</td><td>0.0</td><td>1.353098e6</td></tr><tr><td>2025-01-29 00:00:00</td><td>&quot;YOW.AX&quot;</td><td>null</td><td>0.021</td><td>0.0</td><td>0.021</td><td>0.021</td><td>0.021</td><td>0.0</td><td>20000.0</td></tr><tr><td>2025-01-29 00:00:00</td><td>&quot;ZEU.AX&quot;</td><td>null</td><td>0.007</td><td>0.0</td><td>0.007</td><td>0.007</td><td>0.007</td><td>0.0</td><td>0.0</td></tr><tr><td>2025-01-29 00:00:00</td><td>&quot;ZMM.AX&quot;</td><td>null</td><td>0.013</td><td>0.0</td><td>0.013</td><td>0.013</td><td>0.013</td><td>0.0</td><td>593.0</td></tr></tbody></table></div>"
      ],
      "text/plain": [
       "shape: (6_278_235, 10)\n",
       "┌──────────────┬────────┬───────────┬──────────┬───┬──────────┬──────────┬────────┬────────────┐\n",
       "│ Date         ┆ Ticker ┆ Adj Close ┆ Close    ┆ … ┆ Low      ┆ Open     ┆ Stock  ┆ Volume     │\n",
       "│ ---          ┆ ---    ┆ ---       ┆ ---      ┆   ┆ ---      ┆ ---      ┆ Splits ┆ ---        │\n",
       "│ datetime[ns] ┆ str    ┆ f64       ┆ f64      ┆   ┆ f64      ┆ f64      ┆ ---    ┆ f64        │\n",
       "│              ┆        ┆           ┆          ┆   ┆          ┆          ┆ f64    ┆            │\n",
       "╞══════════════╪════════╪═══════════╪══════════╪═══╪══════════╪══════════╪════════╪════════════╡\n",
       "│ 2000-01-03   ┆ AFI.AX ┆ null      ┆ 1.004347 ┆ … ┆ 1.004347 ┆ 1.004347 ┆ 0.0    ┆ 0.0        │\n",
       "│ 00:00:00     ┆        ┆           ┆          ┆   ┆          ┆          ┆        ┆            │\n",
       "│ 2000-01-03   ┆ AIA.AX ┆ null      ┆ 0.317168 ┆ … ┆ 0.317168 ┆ 0.317168 ┆ 0.0    ┆ 0.0        │\n",
       "│ 00:00:00     ┆        ┆           ┆          ┆   ┆          ┆          ┆        ┆            │\n",
       "│ 2000-01-03   ┆ AIZ.AX ┆ null      ┆ 1.693198 ┆ … ┆ 1.693198 ┆ 1.693198 ┆ 0.0    ┆ 0.0        │\n",
       "│ 00:00:00     ┆        ┆           ┆          ┆   ┆          ┆          ┆        ┆            │\n",
       "│ 2000-01-03   ┆ ALD.AX ┆ null      ┆ 1.027567 ┆ … ┆ 1.027567 ┆ 1.027567 ┆ 0.0    ┆ 0.0        │\n",
       "│ 00:00:00     ┆        ┆           ┆          ┆   ┆          ┆          ┆        ┆            │\n",
       "│ 2000-01-03   ┆ ALL.AX ┆ null      ┆ 3.0692   ┆ … ┆ 3.0692   ┆ 3.0692   ┆ 0.0    ┆ 0.0        │\n",
       "│ 00:00:00     ┆        ┆           ┆          ┆   ┆          ┆          ┆        ┆            │\n",
       "│ …            ┆ …      ┆ …         ┆ …        ┆ … ┆ …        ┆ …        ┆ …      ┆ …          │\n",
       "│ 2025-01-29   ┆ XPN.AX ┆ null      ┆ 0.013    ┆ … ┆ 0.011    ┆ 0.014    ┆ 0.0    ┆ 2.291821e6 │\n",
       "│ 00:00:00     ┆        ┆           ┆          ┆   ┆          ┆          ┆        ┆            │\n",
       "│ 2025-01-29   ┆ YAR.AX ┆ null      ┆ 0.004    ┆ … ┆ 0.004    ┆ 0.004    ┆ 0.0    ┆ 1.353098e6 │\n",
       "│ 00:00:00     ┆        ┆           ┆          ┆   ┆          ┆          ┆        ┆            │\n",
       "│ 2025-01-29   ┆ YOW.AX ┆ null      ┆ 0.021    ┆ … ┆ 0.021    ┆ 0.021    ┆ 0.0    ┆ 20000.0    │\n",
       "│ 00:00:00     ┆        ┆           ┆          ┆   ┆          ┆          ┆        ┆            │\n",
       "│ 2025-01-29   ┆ ZEU.AX ┆ null      ┆ 0.007    ┆ … ┆ 0.007    ┆ 0.007    ┆ 0.0    ┆ 0.0        │\n",
       "│ 00:00:00     ┆        ┆           ┆          ┆   ┆          ┆          ┆        ┆            │\n",
       "│ 2025-01-29   ┆ ZMM.AX ┆ null      ┆ 0.013    ┆ … ┆ 0.013    ┆ 0.013    ┆ 0.0    ┆ 593.0      │\n",
       "│ 00:00:00     ┆        ┆           ┆          ┆   ┆          ┆          ┆        ┆            │\n",
       "└──────────────┴────────┴───────────┴──────────┴───┴──────────┴──────────┴────────┴────────────┘"
      ]
     },
     "execution_count": 40,
     "metadata": {},
     "output_type": "execute_result"
    }
   ],
   "source": []
  },
  {
   "cell_type": "code",
   "execution_count": 37,
   "metadata": {},
   "outputs": [
    {
     "data": {
      "text/html": [
       "<div><style>\n",
       ".dataframe > thead > tr,\n",
       ".dataframe > tbody > tr {\n",
       "  text-align: right;\n",
       "  white-space: pre-wrap;\n",
       "}\n",
       "</style>\n",
       "<small>shape: (669_231, 11)</small><table border=\"1\" class=\"dataframe\"><thead><tr><th>Date</th><th>Ticker</th><th>Adj Close</th><th>Capital Gains</th><th>Close</th><th>Dividends</th><th>High</th><th>Low</th><th>Open</th><th>Stock Splits</th><th>Volume</th></tr><tr><td>datetime[ns]</td><td>str</td><td>f64</td><td>f64</td><td>f64</td><td>f64</td><td>f64</td><td>f64</td><td>f64</td><td>f64</td><td>f64</td></tr></thead><tbody><tr><td>2000-01-03 00:00:00</td><td>&quot;ADD.AX&quot;</td><td>null</td><td>null</td><td>49.991608</td><td>0.0</td><td>49.991608</td><td>49.991608</td><td>49.991608</td><td>0.0</td><td>0.0</td></tr><tr><td>2000-01-03 00:00:00</td><td>&quot;ADS.AX&quot;</td><td>null</td><td>null</td><td>1.266161</td><td>0.0</td><td>1.266161</td><td>1.266161</td><td>1.266161</td><td>0.0</td><td>0.0</td></tr><tr><td>2000-01-03 00:00:00</td><td>&quot;AFA.AX&quot;</td><td>null</td><td>null</td><td>0.814803</td><td>0.0</td><td>0.814803</td><td>0.814803</td><td>0.814803</td><td>0.0</td><td>0.0</td></tr><tr><td>2000-01-03 00:00:00</td><td>&quot;BCC.AX&quot;</td><td>null</td><td>null</td><td>65.599533</td><td>0.0</td><td>65.599533</td><td>65.599533</td><td>65.599533</td><td>0.0</td><td>0.0</td></tr><tr><td>2000-01-03 00:00:00</td><td>&quot;BEL.AX&quot;</td><td>null</td><td>null</td><td>0.281758</td><td>0.0</td><td>0.281758</td><td>0.281758</td><td>0.281758</td><td>0.0</td><td>0.0</td></tr><tr><td>&hellip;</td><td>&hellip;</td><td>&hellip;</td><td>&hellip;</td><td>&hellip;</td><td>&hellip;</td><td>&hellip;</td><td>&hellip;</td><td>&hellip;</td><td>&hellip;</td><td>&hellip;</td></tr><tr><td>2025-01-29 00:00:00</td><td>&quot;XPN.AX&quot;</td><td>null</td><td>null</td><td>0.013</td><td>0.0</td><td>0.014</td><td>0.011</td><td>0.014</td><td>0.0</td><td>2.291821e6</td></tr><tr><td>2025-01-29 00:00:00</td><td>&quot;YAR.AX&quot;</td><td>null</td><td>null</td><td>0.004</td><td>0.0</td><td>0.004</td><td>0.004</td><td>0.004</td><td>0.0</td><td>1.353098e6</td></tr><tr><td>2025-01-29 00:00:00</td><td>&quot;YOW.AX&quot;</td><td>null</td><td>null</td><td>0.021</td><td>0.0</td><td>0.021</td><td>0.021</td><td>0.021</td><td>0.0</td><td>20000.0</td></tr><tr><td>2025-01-29 00:00:00</td><td>&quot;ZEU.AX&quot;</td><td>null</td><td>null</td><td>0.007</td><td>0.0</td><td>0.007</td><td>0.007</td><td>0.007</td><td>0.0</td><td>0.0</td></tr><tr><td>2025-01-29 00:00:00</td><td>&quot;ZMM.AX&quot;</td><td>null</td><td>null</td><td>0.013</td><td>0.0</td><td>0.013</td><td>0.013</td><td>0.013</td><td>0.0</td><td>593.0</td></tr></tbody></table></div>"
      ],
      "text/plain": [
       "shape: (669_231, 11)\n",
       "┌───────────────┬────────┬───────────┬─────────┬───┬───────────┬───────────┬────────┬──────────────┐\n",
       "│ Date          ┆ Ticker ┆ Adj Close ┆ Capital ┆ … ┆ Low       ┆ Open      ┆ Stock  ┆ Volume       │\n",
       "│ ---           ┆ ---    ┆ ---       ┆ Gains   ┆   ┆ ---       ┆ ---       ┆ Splits ┆ ---          │\n",
       "│ datetime[ns]  ┆ str    ┆ f64       ┆ ---     ┆   ┆ f64       ┆ f64       ┆ ---    ┆ f64          │\n",
       "│               ┆        ┆           ┆ f64     ┆   ┆           ┆           ┆ f64    ┆              │\n",
       "╞═══════════════╪════════╪═══════════╪═════════╪═══╪═══════════╪═══════════╪════════╪══════════════╡\n",
       "│ 2000-01-03    ┆ ADD.AX ┆ null      ┆ null    ┆ … ┆ 49.991608 ┆ 49.991608 ┆ 0.0    ┆ 0.0          │\n",
       "│ 00:00:00      ┆        ┆           ┆         ┆   ┆           ┆           ┆        ┆              │\n",
       "│ 2000-01-03    ┆ ADS.AX ┆ null      ┆ null    ┆ … ┆ 1.266161  ┆ 1.266161  ┆ 0.0    ┆ 0.0          │\n",
       "│ 00:00:00      ┆        ┆           ┆         ┆   ┆           ┆           ┆        ┆              │\n",
       "│ 2000-01-03    ┆ AFA.AX ┆ null      ┆ null    ┆ … ┆ 0.814803  ┆ 0.814803  ┆ 0.0    ┆ 0.0          │\n",
       "│ 00:00:00      ┆        ┆           ┆         ┆   ┆           ┆           ┆        ┆              │\n",
       "│ 2000-01-03    ┆ BCC.AX ┆ null      ┆ null    ┆ … ┆ 65.599533 ┆ 65.599533 ┆ 0.0    ┆ 0.0          │\n",
       "│ 00:00:00      ┆        ┆           ┆         ┆   ┆           ┆           ┆        ┆              │\n",
       "│ 2000-01-03    ┆ BEL.AX ┆ null      ┆ null    ┆ … ┆ 0.281758  ┆ 0.281758  ┆ 0.0    ┆ 0.0          │\n",
       "│ 00:00:00      ┆        ┆           ┆         ┆   ┆           ┆           ┆        ┆              │\n",
       "│ …             ┆ …      ┆ …         ┆ …       ┆ … ┆ …         ┆ …         ┆ …      ┆ …            │\n",
       "│ 2025-01-29    ┆ XPN.AX ┆ null      ┆ null    ┆ … ┆ 0.011     ┆ 0.014     ┆ 0.0    ┆ 2.291821e6   │\n",
       "│ 00:00:00      ┆        ┆           ┆         ┆   ┆           ┆           ┆        ┆              │\n",
       "│ 2025-01-29    ┆ YAR.AX ┆ null      ┆ null    ┆ … ┆ 0.004     ┆ 0.004     ┆ 0.0    ┆ 1.353098e6   │\n",
       "│ 00:00:00      ┆        ┆           ┆         ┆   ┆           ┆           ┆        ┆              │\n",
       "│ 2025-01-29    ┆ YOW.AX ┆ null      ┆ null    ┆ … ┆ 0.021     ┆ 0.021     ┆ 0.0    ┆ 20000.0      │\n",
       "│ 00:00:00      ┆        ┆           ┆         ┆   ┆           ┆           ┆        ┆              │\n",
       "│ 2025-01-29    ┆ ZEU.AX ┆ null      ┆ null    ┆ … ┆ 0.007     ┆ 0.007     ┆ 0.0    ┆ 0.0          │\n",
       "│ 00:00:00      ┆        ┆           ┆         ┆   ┆           ┆           ┆        ┆              │\n",
       "│ 2025-01-29    ┆ ZMM.AX ┆ null      ┆ null    ┆ … ┆ 0.013     ┆ 0.013     ┆ 0.0    ┆ 593.0        │\n",
       "│ 00:00:00      ┆        ┆           ┆         ┆   ┆           ┆           ┆        ┆              │\n",
       "└───────────────┴────────┴───────────┴─────────┴───┴───────────┴───────────┴────────┴──────────────┘"
      ]
     },
     "execution_count": 37,
     "metadata": {},
     "output_type": "execute_result"
    }
   ],
   "source": [
    "pl.read_parquet(source = '../histdata/2000-01-01_4.parquet')\n"
   ]
  },
  {
   "cell_type": "code",
   "execution_count": 38,
   "metadata": {},
   "outputs": [
    {
     "name": "stdout",
     "output_type": "stream",
     "text": [
      "0\n",
      "1\n",
      "2\n",
      "3\n",
      "4\n"
     ]
    }
   ],
   "source": [
    "#pl.read_parquet(source = '../histdata/2000-01-01_0.parquet')\n",
    "for i in range(5):\n",
    "    print(i)\n",
    "    pl.read_parquet(source = f'../histdata/2000-01-01_{i}.parquet', columns={\n",
    "        'Date':DTypes.Datetime('ns'),\n",
    "        'Ticker':DTypes.String,\n",
    "        'Adj Close':DTypes.Float64,\n",
    "        'Close':DTypes.Float64,\n",
    "        'Dividends':DTypes.Float64,\n",
    "        'High':DTypes.Float64,\n",
    "        'Low':DTypes.Float64,\n",
    "        'Open':DTypes.Float64,\n",
    "        'Stock Splits':DTypes.Float64,\n",
    "        'Volume':DTypes.Float64,\n",
    "    })"
   ]
  },
  {
   "cell_type": "markdown",
   "metadata": {},
   "source": [
    "# actual pipeline"
   ]
  },
  {
   "cell_type": "code",
   "execution_count": 1,
   "metadata": {},
   "outputs": [],
   "source": [
    "import polars as pl\n",
    "import polars.datatypes as DTypes"
   ]
  },
  {
   "cell_type": "code",
   "execution_count": 2,
   "metadata": {},
   "outputs": [],
   "source": [
    "lazy = False\n",
    "if lazy:\n",
    "    df = pl.scan_parquet(source = f'../histdata', schema={\n",
    "        'Date'          :DTypes.Datetime('ns'),\n",
    "        'Ticker'        :DTypes.String,\n",
    "        'Adj Close'     :DTypes.Float64,\n",
    "        'Close'         :DTypes.Float64,\n",
    "        'Dividends'     :DTypes.Float64,\n",
    "        'High'          :DTypes.Float64,\n",
    "        'Low'           :DTypes.Float64,\n",
    "        'Open'          :DTypes.Float64,\n",
    "        'Stock Splits'  :DTypes.Float64,\n",
    "        'Volume'        :DTypes.Float64,\n",
    "    }, allow_missing_columns=True)\n",
    "else:\n",
    "    df = pl.read_parquet(source = f'../histdata', columns={\n",
    "        'Date'          :DTypes.Datetime('ns'),\n",
    "        'Ticker'        :DTypes.String,\n",
    "        'Adj Close'     :DTypes.Float64,\n",
    "        'Close'         :DTypes.Float64,\n",
    "        'Dividends'     :DTypes.Float64,\n",
    "        'High'          :DTypes.Float64,\n",
    "        'Low'           :DTypes.Float64,\n",
    "        'Open'          :DTypes.Float64,\n",
    "        'Stock Splits'  :DTypes.Float64,\n",
    "        'Volume'        :DTypes.Float64,\n",
    "    }, allow_missing_columns=True)\n",
    "lv1 = df.sort('Date',\"Ticker\")"
   ]
  },
  {
   "cell_type": "code",
   "execution_count": 48,
   "metadata": {},
   "outputs": [],
   "source": [
    "over_params = {'partition_by':'Ticker', 'order_by':\"Date\"}\n",
    "\n",
    "lv2 = lv1\n",
    "lv2 = (\n",
    "    lv2\n",
    "    #---------------------------------macd\n",
    "    .with_columns(\n",
    "        ema_close_12_wilder = pl.col('Close').ewm_mean(com=12-1).over(**over_params),\n",
    "        ema_close_26_wilder = pl.col('Close').ewm_mean(com=26-1).over(**over_params),\n",
    "    )\n",
    "    .with_columns(\n",
    "        macd= pl.col('ema_close_12_wilder') - pl.col('ema_close_26_wilder'),\n",
    "    )\n",
    "    #---------------------------------cap\n",
    "    .with_columns(\n",
    "        #group 2\n",
    "        cap_xchgd_approx    = pl.col(\"Volume\") * pl.max_horizontal(pl.col('Open') + pl.col('High')+pl.col('Low')+pl.col('Close')/4, pl.lit(0)),\n",
    "    )\n",
    "    #---------------------------------tmf\n",
    "    .with_columns(\n",
    "        _close_prev = pl.col('Close').shift(1).over(**over_params)\n",
    "    )\n",
    "    .with_columns(\n",
    "        _trh = pl.max_horizontal(pl.col('High'), pl.col('_close_prev')),\n",
    "        _trl = pl.min_horizontal(pl.col('Low'), pl.col('_close_prev')),\n",
    "    )\n",
    "    .with_columns(\n",
    "        _ad = (2*pl.col(\"Close\")-pl.col(\"_trh\")-pl.col(\"_trl\"))/(pl.col(\"_trh\")-pl.col(\"_trl\")+0.00000000001)*pl.col(\"Volume\"),\n",
    "    )\n",
    "    .with_columns(\n",
    "        ema_ad = pl.col('_ad').ewm_mean(com=14-1).over(**over_params),\n",
    "        ema_volume = pl.col('Volume').ewm_mean(com=14-1).over(**over_params),\n",
    "    )\n",
    "    .with_columns(\n",
    "        TMF_w = pl.col('ema_ad')/pl.col('ema_volume')\n",
    "    )\n",
    ")\n",
    "lv2 = (\n",
    "    lv2.join(\n",
    "        lv2.rolling(index_column='Date',period=f'{4*7}d',group_by='Ticker').agg(\n",
    "            pl.min(\"TMF_w\").alias('TMF_4w_min')\n",
    "        ),\n",
    "        on = [pl.col(\"Date\"),pl.col(\"Ticker\")]\n",
    "    ).join(\n",
    "        lv2.rolling(index_column='Date',period=f'{26*7}d',group_by='Ticker').agg(\n",
    "            pl.min(\"TMF_w\").alias('TMF_26w_min')\n",
    "        ),\n",
    "        on = [pl.col(\"Date\"),pl.col(\"Ticker\")]\n",
    "    ).with_columns(\n",
    "        TMF_4w_min_dd  = pl.col(\"TMF_4w_min\")-pl.col(\"TMF_4w_min\").shift(1).over(**over_params) ,\n",
    "        TMF_26w_min_dd = pl.col(\"TMF_26w_min\")-pl.col(\"TMF_26w_min\").shift(1).over(**over_params),\n",
    "    )\n",
    "    .with_columns(\n",
    "        __TMF_4w_min_dd_qtl_50_neg = pl.when(pl.col(\"TMF_4w_min_dd\")<0).then(pl.col(\"TMF_4w_min_dd\")),\n",
    "        __TMF_26w_min_dd_qtl_50_neg = pl.when(pl.col(\"TMF_26w_min_dd\")<0).then(pl.col(\"TMF_26w_min_dd\"))\n",
    "    )\n",
    ")\n",
    "\n",
    "lv2 = (\n",
    "    lv2.join(\n",
    "        lv2.rolling(index_column='Date',period=f'{4*7}d',group_by='Ticker').agg(\n",
    "            pl.quantile(\"__TMF_4w_min_dd_qtl_50_neg\", 0.5,interpolation='linear').alias('TMF_4w_min_dd_qtl_50'),\n",
    "            pl.quantile(\"__TMF_4w_min_dd_qtl_50_neg\", 0.5,interpolation='nearest').alias('TMF_4w_min_dd_qtl_50_alt')\n",
    "        ),\n",
    "        on = [pl.col(\"Date\"),pl.col(\"Ticker\")]\n",
    "    )\n",
    "    .join(\n",
    "        lv2.rolling(index_column='Date',period=f'{26*7}d',group_by='Ticker').agg(\n",
    "            pl.quantile(\"__TMF_26w_min_dd_qtl_50_neg\", 0.5,interpolation='linear').alias('TMF_26w_min_dd_qtl_50'),\n",
    "            pl.quantile(\"__TMF_26w_min_dd_qtl_50_neg\", 0.5,interpolation='nearest').alias('TMF_26w_min_dd_qtl_50_alt')\n",
    "        ),\n",
    "        on = [pl.col(\"Date\"),pl.col(\"Ticker\")]\n",
    "    )\n",
    ") \n",
    "    #---------------------------------rsi\n",
    "lv2 = (\n",
    "    lv2.with_columns(\n",
    "        _chg = pl.col('Close')/pl.col('Open')-1,\n",
    "    )\n",
    "    .with_columns(\n",
    "        _avg_gain = pl.when(pl.col('_chg')>0).then(pl.col('_chg')).otherwise(0),\n",
    "        _avg_loss = pl.when(pl.col('_chg')<=0).then(pl.col('_chg')).otherwise(0),\n",
    "    )\n",
    "    .with_columns(\n",
    "        #rsi = (\n",
    "        #    100 - 100 / (\n",
    "        #        1+\n",
    "        #        pl.col('_avg_gain').mean().over(**over_params).rolling(index_column='Date',period='14d')/\n",
    "        #        pl.col('_avg_loss').mean().over(**over_params).rolling(index_column='Date',period='14d')\n",
    "        #    )\n",
    "        #),\n",
    "        rsi_ema = (\n",
    "            100 - 100 / (\n",
    "                1+\n",
    "                pl.col('_avg_gain').ewm_mean(com=14-1).over(**over_params)/\n",
    "                pl.col('_avg_loss').ewm_mean(com=14-1).over(**over_params)\n",
    "            )\n",
    "        ),\n",
    "    )\n",
    ")\n",
    "lv2 = (\n",
    "    lv2.join(\n",
    "        lv2.rolling(index_column='Date',period='14d',group_by='Ticker').agg(\n",
    "            pl.mean(\"_avg_gain\").alias('_ma_avg_gain'),\n",
    "            pl.mean(\"_avg_loss\").alias('_ma_avg_loss')\n",
    "        ),\n",
    "        on = [pl.col(\"Date\"),pl.col(\"Ticker\")]\n",
    "    )\n",
    "    .with_columns(\n",
    "        rsi = (\n",
    "            100 - 100 / (\n",
    "                1+\n",
    "                pl.col('_ma_avg_gain')/pl.col('_ma_avg_loss')\n",
    "            )\n",
    "        ),\n",
    "    )\n",
    ")\n",
    "# -------------------------------- tmf signal\n",
    "lv2 = (\n",
    "    lv2.with_columns(\n",
    "        TMF_Simple_Signal = pl.when(\n",
    "            (pl.col(\"TMF_26w_min_dd\")==0) & (pl.col(\"TMF_26w_min_dd\").shift(1).over(**over_params) < 0)\n",
    "        ).then(1).otherwise(0)\n",
    "    )\n",
    ")\n",
    "# -------------------------------- entry_exit_calc\n",
    "lv2 = (\n",
    "    lv2.with_columns(\n",
    "        entry_price= ((pl.col(\"Open\")+pl.col(\"High\")+pl.col(\"Low\")+pl.col(\"Close\"))/4).shift(-1).over(**over_params),\n",
    "    )\n",
    ")\n",
    "\n",
    "\n",
    "\n",
    "    #.select(\n",
    "    #    # source\n",
    "    #    'Date'          \n",
    "    #    ,'Ticker'        \n",
    "    #    ,'Adj Close'     \n",
    "    #    ,'Close'         \n",
    "    #    ,'Dividends'     \n",
    "    #    ,'High'          \n",
    "    #    ,'Low'           \n",
    "    #    ,'Open'          \n",
    "    #    ,'Stock Splits'  \n",
    "    #    ,'Volume'\n",
    "    #\n",
    "    #    # transforms\n",
    "    #    ,'cap_xchgd_approx'\n",
    "    #    ,'macd'        \n",
    "    #    #,'rsi'\n",
    "    #    ,'rsi_ema'\n",
    "    #\n",
    "    #    # intermediate_steps\n",
    "    #    ,\"_avg_gain\"\n",
    "    #    ,\"_avg_loss\"\n",
    "    #)\n",
    "\n",
    "if lazy:\n",
    "    lv2 = lv2.select(pl.col(\"*\")).collect()\n",
    "#.filter(pl.col('Ticker')=='CBA.AX').select('Date','Ticker','Close','ema_close_12_wilder')\n",
    "\n",
    "#focus = lv2.to_pandas()\n",
    "\n",
    "#import plotly.express as px\n",
    "#px.line(focus, x = 'Date', y=['Close','ema_close_12_wilder'])"
   ]
  },
  {
   "cell_type": "code",
   "execution_count": 40,
   "metadata": {},
   "outputs": [
    {
     "data": {
      "text/html": [
       "<div><style>\n",
       ".dataframe > thead > tr,\n",
       ".dataframe > tbody > tr {\n",
       "  text-align: right;\n",
       "  white-space: pre-wrap;\n",
       "}\n",
       "</style>\n",
       "<small>shape: (6_278_235, 38)</small><table border=\"1\" class=\"dataframe\"><thead><tr><th>Date</th><th>Ticker</th><th>Adj Close</th><th>Close</th><th>Dividends</th><th>High</th><th>Low</th><th>Open</th><th>Stock Splits</th><th>Volume</th><th>ema_close_12_wilder</th><th>ema_close_26_wilder</th><th>macd</th><th>cap_xchgd_approx</th><th>_close_prev</th><th>_trh</th><th>_trl</th><th>_ad</th><th>ema_ad</th><th>ema_volume</th><th>TMF_w</th><th>TMF_4w_min</th><th>TMF_26w_min</th><th>TMF_4w_min_dd</th><th>TMF_26w_min_dd</th><th>__TMF_4w_min_dd_qtl_50_neg</th><th>__TMF_26w_min_dd_qtl_50_neg</th><th>TMF_4w_min_dd_qtl_50</th><th>TMF_4w_min_dd_qtl_50_alt</th><th>TMF_26w_min_dd_qtl_50</th><th>TMF_26w_min_dd_qtl_50_alt</th><th>_chg</th><th>_avg_gain</th><th>_avg_loss</th><th>rsi_ema</th><th>_ma_avg_gain</th><th>_ma_avg_loss</th><th>rsi</th></tr><tr><td>datetime[ns]</td><td>str</td><td>f64</td><td>f64</td><td>f64</td><td>f64</td><td>f64</td><td>f64</td><td>f64</td><td>f64</td><td>f64</td><td>f64</td><td>f64</td><td>f64</td><td>f64</td><td>f64</td><td>f64</td><td>f64</td><td>f64</td><td>f64</td><td>f64</td><td>f64</td><td>f64</td><td>f64</td><td>f64</td><td>f64</td><td>f64</td><td>f64</td><td>f64</td><td>f64</td><td>f64</td><td>f64</td><td>f64</td><td>f64</td><td>f64</td><td>f64</td><td>f64</td><td>f64</td></tr></thead><tbody><tr><td>2018-09-12 00:00:00</td><td>&quot;14D.AX&quot;</td><td>null</td><td>0.2175</td><td>0.0</td><td>0.241666</td><td>0.198166</td><td>0.241666</td><td>0.0</td><td>3.898485e6</td><td>0.2175</td><td>0.2175</td><td>0.0</td><td>2.8688e6</td><td>null</td><td>0.241666</td><td>0.198166</td><td>-433045.403201</td><td>-433045.403201</td><td>3.898485e6</td><td>-0.11108</td><td>-0.11108</td><td>-0.11108</td><td>null</td><td>null</td><td>null</td><td>null</td><td>null</td><td>null</td><td>null</td><td>null</td><td>-0.099998</td><td>0.0</td><td>-0.099998</td><td>0.0</td><td>0.0</td><td>-0.099998</td><td>0.0</td></tr><tr><td>2018-09-13 00:00:00</td><td>&quot;14D.AX&quot;</td><td>null</td><td>0.285166</td><td>0.0</td><td>0.285166</td><td>0.222333</td><td>0.227166</td><td>0.0</td><td>6.814704e6</td><td>0.252804</td><td>0.251996</td><td>0.000808</td><td>5.4924e6</td><td>0.2175</td><td>0.285166</td><td>0.2175</td><td>6.8147e6</td><td>3.3250e6</td><td>5.4106e6</td><td>0.614543</td><td>-0.11108</td><td>-0.11108</td><td>0.0</td><td>0.0</td><td>null</td><td>null</td><td>null</td><td>null</td><td>null</td><td>null</td><td>0.25532</td><td>0.25532</td><td>0.0</td><td>157.153738</td><td>0.12766</td><td>-0.049999</td><td>164.380636</td></tr><tr><td>2018-09-14 00:00:00</td><td>&quot;14D.AX&quot;</td><td>null</td><td>0.29</td><td>0.0</td><td>0.3335</td><td>0.29</td><td>0.314166</td><td>0.0</td><td>5.807524e6</td><td>0.266296</td><td>0.265164</td><td>0.001132</td><td>5.8666e6</td><td>0.285166</td><td>0.3335</td><td>0.285166</td><td>-4.6459e6</td><td>468920.96101</td><td>5.5528e6</td><td>0.084447</td><td>-0.11108</td><td>-0.11108</td><td>0.0</td><td>0.0</td><td>null</td><td>null</td><td>null</td><td>null</td><td>null</td><td>null</td><td>-0.076921</td><td>0.0</td><td>-0.076921</td><td>320.645432</td><td>0.085107</td><td>-0.058973</td><td>325.658169</td></tr><tr><td>2018-09-17 00:00:00</td><td>&quot;14D.AX&quot;</td><td>null</td><td>0.415666</td><td>0.0</td><td>0.415666</td><td>0.3045</td><td>0.309333</td><td>0.0</td><td>6.534657e6</td><td>0.308644</td><td>0.305031</td><td>0.003613</td><td>7.4065e6</td><td>0.29</td><td>0.415666</td><td>0.29</td><td>6.5347e6</td><td>2.1578e6</td><td>5.8262e6</td><td>0.37037</td><td>-0.11108</td><td>-0.11108</td><td>0.0</td><td>0.0</td><td>null</td><td>null</td><td>null</td><td>null</td><td>null</td><td>null</td><td>0.343749</td><td>0.343749</td><td>0.0</td><td>136.733214</td><td>0.149767</td><td>-0.04423</td><td>141.908912</td></tr><tr><td>2018-09-18 00:00:00</td><td>&quot;14D.AX&quot;</td><td>null</td><td>0.4205</td><td>0.0</td><td>0.522</td><td>0.406</td><td>0.435</td><td>0.0</td><td>1.0966387e7</td><td>0.335067</td><td>0.329971</td><td>0.005096</td><td>1.6100e7</td><td>0.415666</td><td>0.522</td><td>0.406</td><td>-8.2248e6</td><td>-237257.099513</td><td>7.0120e6</td><td>-0.033836</td><td>-0.11108</td><td>-0.11108</td><td>0.0</td><td>0.0</td><td>null</td><td>null</td><td>null</td><td>null</td><td>null</td><td>null</td><td>-0.033333</td><td>0.0</td><td>-0.033333</td><td>149.769712</td><td>0.119814</td><td>-0.04205</td><td>154.074768</td></tr><tr><td>&hellip;</td><td>&hellip;</td><td>&hellip;</td><td>&hellip;</td><td>&hellip;</td><td>&hellip;</td><td>&hellip;</td><td>&hellip;</td><td>&hellip;</td><td>&hellip;</td><td>&hellip;</td><td>&hellip;</td><td>&hellip;</td><td>&hellip;</td><td>&hellip;</td><td>&hellip;</td><td>&hellip;</td><td>&hellip;</td><td>&hellip;</td><td>&hellip;</td><td>&hellip;</td><td>&hellip;</td><td>&hellip;</td><td>&hellip;</td><td>&hellip;</td><td>&hellip;</td><td>&hellip;</td><td>&hellip;</td><td>&hellip;</td><td>&hellip;</td><td>&hellip;</td><td>&hellip;</td><td>&hellip;</td><td>&hellip;</td><td>&hellip;</td><td>&hellip;</td><td>&hellip;</td><td>&hellip;</td></tr><tr><td>2025-01-22 00:00:00</td><td>&quot;SGLLV.AX&quot;</td><td>null</td><td>10.65</td><td>0.0</td><td>10.8</td><td>10.61</td><td>10.8</td><td>0.0</td><td>12564.0</td><td>10.40207</td><td>10.057863</td><td>0.344206</td><td>438138.089281</td><td>10.77</td><td>10.8</td><td>10.61</td><td>-7273.914651</td><td>-407.533894</td><td>24103.202736</td><td>-0.016908</td><td>-0.016908</td><td>-0.418674</td><td>-0.017472</td><td>0.0</td><td>-0.017472</td><td>null</td><td>-0.020725</td><td>-0.020725</td><td>null</td><td>null</td><td>-0.013889</td><td>0.0</td><td>-0.013889</td><td>-129.620127</td><td>NaN</td><td>-0.014127</td><td>NaN</td></tr><tr><td>2025-01-23 00:00:00</td><td>&quot;SGLLV.AX&quot;</td><td>null</td><td>10.7</td><td>0.0</td><td>10.8</td><td>10.52</td><td>10.67</td><td>0.0</td><td>14952.0</td><td>10.426897</td><td>10.082561</td><td>0.344336</td><td>518311.090124</td><td>10.65</td><td>10.8</td><td>10.52</td><td>4271.949074</td><td>-73.28511</td><td>23449.545398</td><td>-0.003125</td><td>-0.016908</td><td>-0.418674</td><td>0.0</td><td>0.0</td><td>null</td><td>null</td><td>-0.020725</td><td>-0.020725</td><td>null</td><td>null</td><td>0.002812</td><td>0.002812</td><td>0.0</td><td>-138.083939</td><td>NaN</td><td>-0.014127</td><td>NaN</td></tr><tr><td>2025-01-24 00:00:00</td><td>&quot;SGLLV.AX&quot;</td><td>null</td><td>10.53</td><td>0.0</td><td>10.7</td><td>10.35</td><td>10.7</td><td>0.0</td><td>30235.0</td><td>10.435489</td><td>10.09977</td><td>0.335719</td><td>1.0396e6</td><td>10.7</td><td>10.7</td><td>10.35</td><td>863.795943</td><td>-6.350749</td><td>23934.220727</td><td>-0.000265</td><td>-0.016908</td><td>-0.418674</td><td>0.0</td><td>0.0</td><td>null</td><td>null</td><td>-0.020725</td><td>-0.020725</td><td>null</td><td>null</td><td>-0.015888</td><td>0.0</td><td>-0.015888</td><td>-112.784897</td><td>NaN</td><td>-0.012763</td><td>NaN</td></tr><tr><td>2025-01-28 00:00:00</td><td>&quot;SGLLV.AX&quot;</td><td>null</td><td>10.33</td><td>0.0</td><td>10.55</td><td>10.2</td><td>10.55</td><td>0.0</td><td>34525.0</td><td>10.426698</td><td>10.108625</td><td>0.318073</td><td>1.1698e6</td><td>10.53</td><td>10.55</td><td>10.2</td><td>-8877.862518</td><td>-640.030162</td><td>24690.70496</td><td>-0.025922</td><td>-0.025922</td><td>-0.418674</td><td>-0.009014</td><td>0.0</td><td>-0.009014</td><td>null</td><td>-0.019099</td><td>-0.017472</td><td>null</td><td>null</td><td>-0.020853</td><td>0.0</td><td>-0.020853</td><td>-89.58499</td><td>NaN</td><td>-0.009111</td><td>NaN</td></tr><tr><td>2025-01-29 00:00:00</td><td>&quot;SGLLV.AX&quot;</td><td>null</td><td>10.4</td><td>0.0</td><td>10.4</td><td>10.18</td><td>10.33</td><td>0.0</td><td>33213.0</td><td>10.424474</td><td>10.119832</td><td>0.304642</td><td>1.1130e6</td><td>10.33</td><td>10.4</td><td>10.18</td><td>33212.999998</td><td>1778.043421</td><td>25299.44032</td><td>0.07028</td><td>-0.025922</td><td>-0.418674</td><td>0.0</td><td>0.0</td><td>null</td><td>null</td><td>-0.019099</td><td>-0.017472</td><td>null</td><td>null</td><td>0.006776</td><td>0.006776</td><td>0.0</td><td>-104.29098</td><td>NaN</td><td>-0.009111</td><td>NaN</td></tr></tbody></table></div>"
      ],
      "text/plain": [
       "shape: (6_278_235, 38)\n",
       "┌────────────┬──────────┬───────────┬──────────┬───┬───────────┬───────────┬───────────┬───────────┐\n",
       "│ Date       ┆ Ticker   ┆ Adj Close ┆ Close    ┆ … ┆ rsi_ema   ┆ _ma_avg_g ┆ _ma_avg_l ┆ rsi       │\n",
       "│ ---        ┆ ---      ┆ ---       ┆ ---      ┆   ┆ ---       ┆ ain       ┆ oss       ┆ ---       │\n",
       "│ datetime[n ┆ str      ┆ f64       ┆ f64      ┆   ┆ f64       ┆ ---       ┆ ---       ┆ f64       │\n",
       "│ s]         ┆          ┆           ┆          ┆   ┆           ┆ f64       ┆ f64       ┆           │\n",
       "╞════════════╪══════════╪═══════════╪══════════╪═══╪═══════════╪═══════════╪═══════════╪═══════════╡\n",
       "│ 2018-09-12 ┆ 14D.AX   ┆ null      ┆ 0.2175   ┆ … ┆ 0.0       ┆ 0.0       ┆ -0.099998 ┆ 0.0       │\n",
       "│ 00:00:00   ┆          ┆           ┆          ┆   ┆           ┆           ┆           ┆           │\n",
       "│ 2018-09-13 ┆ 14D.AX   ┆ null      ┆ 0.285166 ┆ … ┆ 157.15373 ┆ 0.12766   ┆ -0.049999 ┆ 164.38063 │\n",
       "│ 00:00:00   ┆          ┆           ┆          ┆   ┆ 8         ┆           ┆           ┆ 6         │\n",
       "│ 2018-09-14 ┆ 14D.AX   ┆ null      ┆ 0.29     ┆ … ┆ 320.64543 ┆ 0.085107  ┆ -0.058973 ┆ 325.65816 │\n",
       "│ 00:00:00   ┆          ┆           ┆          ┆   ┆ 2         ┆           ┆           ┆ 9         │\n",
       "│ 2018-09-17 ┆ 14D.AX   ┆ null      ┆ 0.415666 ┆ … ┆ 136.73321 ┆ 0.149767  ┆ -0.04423  ┆ 141.90891 │\n",
       "│ 00:00:00   ┆          ┆           ┆          ┆   ┆ 4         ┆           ┆           ┆ 2         │\n",
       "│ 2018-09-18 ┆ 14D.AX   ┆ null      ┆ 0.4205   ┆ … ┆ 149.76971 ┆ 0.119814  ┆ -0.04205  ┆ 154.07476 │\n",
       "│ 00:00:00   ┆          ┆           ┆          ┆   ┆ 2         ┆           ┆           ┆ 8         │\n",
       "│ …          ┆ …        ┆ …         ┆ …        ┆ … ┆ …         ┆ …         ┆ …         ┆ …         │\n",
       "│ 2025-01-22 ┆ SGLLV.AX ┆ null      ┆ 10.65    ┆ … ┆ -129.6201 ┆ NaN       ┆ -0.014127 ┆ NaN       │\n",
       "│ 00:00:00   ┆          ┆           ┆          ┆   ┆ 27        ┆           ┆           ┆           │\n",
       "│ 2025-01-23 ┆ SGLLV.AX ┆ null      ┆ 10.7     ┆ … ┆ -138.0839 ┆ NaN       ┆ -0.014127 ┆ NaN       │\n",
       "│ 00:00:00   ┆          ┆           ┆          ┆   ┆ 39        ┆           ┆           ┆           │\n",
       "│ 2025-01-24 ┆ SGLLV.AX ┆ null      ┆ 10.53    ┆ … ┆ -112.7848 ┆ NaN       ┆ -0.012763 ┆ NaN       │\n",
       "│ 00:00:00   ┆          ┆           ┆          ┆   ┆ 97        ┆           ┆           ┆           │\n",
       "│ 2025-01-28 ┆ SGLLV.AX ┆ null      ┆ 10.33    ┆ … ┆ -89.58499 ┆ NaN       ┆ -0.009111 ┆ NaN       │\n",
       "│ 00:00:00   ┆          ┆           ┆          ┆   ┆           ┆           ┆           ┆           │\n",
       "│ 2025-01-29 ┆ SGLLV.AX ┆ null      ┆ 10.4     ┆ … ┆ -104.2909 ┆ NaN       ┆ -0.009111 ┆ NaN       │\n",
       "│ 00:00:00   ┆          ┆           ┆          ┆   ┆ 8         ┆           ┆           ┆           │\n",
       "└────────────┴──────────┴───────────┴──────────┴───┴───────────┴───────────┴───────────┴───────────┘"
      ]
     },
     "execution_count": 40,
     "metadata": {},
     "output_type": "execute_result"
    }
   ],
   "source": [
    "lv2"
   ]
  },
  {
   "cell_type": "code",
   "execution_count": 43,
   "metadata": {},
   "outputs": [
    {
     "data": {
      "text/html": [
       "<div><style>\n",
       ".dataframe > thead > tr,\n",
       ".dataframe > tbody > tr {\n",
       "  text-align: right;\n",
       "  white-space: pre-wrap;\n",
       "}\n",
       "</style>\n",
       "<small>shape: (6_381, 1)</small><table border=\"1\" class=\"dataframe\"><thead><tr><th>rsi</th></tr><tr><td>f64</td></tr></thead><tbody><tr><td>100.0</td></tr><tr><td>-2.1600e-12</td></tr><tr><td>-1.3927e-12</td></tr><tr><td>-5.4001e-13</td></tr><tr><td>-5.289065</td></tr><tr><td>&hellip;</td></tr><tr><td>-61.322331</td></tr><tr><td>-46.562683</td></tr><tr><td>-82.706333</td></tr><tr><td>-261.315771</td></tr><tr><td>1829.571026</td></tr></tbody></table></div>"
      ],
      "text/plain": [
       "shape: (6_381, 1)\n",
       "┌─────────────┐\n",
       "│ rsi         │\n",
       "│ ---         │\n",
       "│ f64         │\n",
       "╞═════════════╡\n",
       "│ 100.0       │\n",
       "│ -2.1600e-12 │\n",
       "│ -1.3927e-12 │\n",
       "│ -5.4001e-13 │\n",
       "│ -5.289065   │\n",
       "│ …           │\n",
       "│ -61.322331  │\n",
       "│ -46.562683  │\n",
       "│ -82.706333  │\n",
       "│ -261.315771 │\n",
       "│ 1829.571026 │\n",
       "└─────────────┘"
      ]
     },
     "execution_count": 43,
     "metadata": {},
     "output_type": "execute_result"
    }
   ],
   "source": [
    "lv2.filter(pl.col('Ticker')=='CBA.AX').select('rsi')\n"
   ]
  },
  {
   "cell_type": "code",
   "execution_count": 41,
   "metadata": {},
   "outputs": [
    {
     "data": {
      "text/html": [
       "<div><style>\n",
       ".dataframe > thead > tr,\n",
       ".dataframe > tbody > tr {\n",
       "  text-align: right;\n",
       "  white-space: pre-wrap;\n",
       "}\n",
       "</style>\n",
       "<small>shape: (132, 2)</small><table border=\"1\" class=\"dataframe\"><thead><tr><th>__TMF_26w_min_dd_qtl_50_neg</th><th>count</th></tr><tr><td>f64</td><td>u32</td></tr></thead><tbody><tr><td>-0.003756</td><td>1</td></tr><tr><td>-0.049584</td><td>1</td></tr><tr><td>-0.072271</td><td>1</td></tr><tr><td>-0.046678</td><td>1</td></tr><tr><td>-0.034504</td><td>1</td></tr><tr><td>&hellip;</td><td>&hellip;</td></tr><tr><td>-0.037682</td><td>1</td></tr><tr><td>-0.00773</td><td>1</td></tr><tr><td>-0.000852</td><td>1</td></tr><tr><td>-0.069865</td><td>1</td></tr><tr><td>-0.037206</td><td>1</td></tr></tbody></table></div>"
      ],
      "text/plain": [
       "shape: (132, 2)\n",
       "┌─────────────────────────────┬───────┐\n",
       "│ __TMF_26w_min_dd_qtl_50_neg ┆ count │\n",
       "│ ---                         ┆ ---   │\n",
       "│ f64                         ┆ u32   │\n",
       "╞═════════════════════════════╪═══════╡\n",
       "│ -0.003756                   ┆ 1     │\n",
       "│ -0.049584                   ┆ 1     │\n",
       "│ -0.072271                   ┆ 1     │\n",
       "│ -0.046678                   ┆ 1     │\n",
       "│ -0.034504                   ┆ 1     │\n",
       "│ …                           ┆ …     │\n",
       "│ -0.037682                   ┆ 1     │\n",
       "│ -0.00773                    ┆ 1     │\n",
       "│ -0.000852                   ┆ 1     │\n",
       "│ -0.069865                   ┆ 1     │\n",
       "│ -0.037206                   ┆ 1     │\n",
       "└─────────────────────────────┴───────┘"
      ]
     },
     "execution_count": 41,
     "metadata": {},
     "output_type": "execute_result"
    }
   ],
   "source": [
    "lv2.filter(pl.col('Ticker')=='CBA.AX').select('__TMF_26w_min_dd_qtl_50_neg').to_series().value_counts()"
   ]
  }
 ],
 "metadata": {
  "kernelspec": {
   "display_name": ".venv",
   "language": "python",
   "name": "python3"
  },
  "language_info": {
   "codemirror_mode": {
    "name": "ipython",
    "version": 3
   },
   "file_extension": ".py",
   "mimetype": "text/x-python",
   "name": "python",
   "nbconvert_exporter": "python",
   "pygments_lexer": "ipython3",
   "version": "3.12.8"
  }
 },
 "nbformat": 4,
 "nbformat_minor": 2
}
