{
 "cells": [
  {
   "cell_type": "code",
   "execution_count": null,
   "metadata": {},
   "outputs": [],
   "source": [
    "import pandas as pd\n",
    "\n",
    "import os\n",
    "import glob\n",
    "def get_latest_csv(directory):\n",
    "    # Get all CSV files in the directory\n",
    "    csv_files = glob.glob(os.path.join(directory, \"*.csv\"))\n",
    "    \n",
    "    if not csv_files:\n",
    "        return \"No CSV files found in the given directory.\"\n",
    "    \n",
    "    # Get the latest file based on creation time\n",
    "    latest_file = max(csv_files, key=os.path.getctime)\n",
    "    return latest_file\n",
    "\n",
    "# Example usage\n",
    "directory = \"/home/sean/Projects/streambt/cba_debug_2.csv/\"  # Replace with your directory path\n",
    "latest_csv = get_latest_csv(directory)\n",
    "print(f\"Latest CSV file: {latest_csv}\")\n",
    "\n",
    "filename = latest_csv \n",
    "df = pd.read_csv(filename)\n"
   ]
  },
  {
   "cell_type": "code",
   "execution_count": null,
   "metadata": {},
   "outputs": [],
   "source": [
    "#s,e = 100,130\n",
    "#\n",
    "#focus = df[['Date','macd_signal_hof','macd_signal_wa','macd_signal']].iloc[s:e]\n",
    "#focus.plot(grid=True,sharey=False)#,subplots=True)\n",
    "#focus = df[['Date','Close']].iloc[s:e]\n",
    "#focus.plot(grid=True,sharey=False)#,subplots=True)\n",
    "#\n",
    "#with pd.option_context('display.max_rows', None, 'display.max_columns', None):\n",
    "#    focus = df[['Date','macd_signal_hof','macd_signal_wa','macd_signal']].iloc[s:e]\n",
    "#\n",
    "#    display(focus)"
   ]
  },
  {
   "cell_type": "code",
   "execution_count": null,
   "metadata": {},
   "outputs": [],
   "source": [
    "len(df)"
   ]
  },
  {
   "cell_type": "code",
   "execution_count": null,
   "metadata": {},
   "outputs": [],
   "source": [
    "s,e = 100,-1\n",
    "\n",
    "#focus = df[['Date','TMF_w','TMF_wa',\"TMF_4w_min\",\"TMF_8w_min\",\"TMF_26w_min\"]].iloc[s:e]\n",
    "focus = df[['Date','TMF_w',\"TMF_4w_min\",\"TMF_26w_min\"]].iloc[s:e]\n",
    "focus.plot(grid=True,sharey=False)#,subplots=True)\n",
    "#focus = df[['Date','macd','macd_wa','macd_signal','macd_signal_wa']].iloc[s:e]\n",
    "#focus.plot(grid=True,sharey=False)#,subplots=True)\n",
    "\n",
    "focus = df[['Date',\"TMF_4w_min_dd\", \"TMF_26w_min_dd\"]].iloc[s:e]\n",
    "focus.plot(grid=True,sharey=False)#,subplots=True)\n",
    "\n",
    "focus = df[['Date','Close', 'TMF_w',\"TMF_4w_min\",\"TMF_4w_min_dd\"]].iloc[s:e]\n",
    "ax = focus.plot(grid=True,sharey=False)#,subplots=True)\n",
    "ax.minorticks_on()\n",
    "ax.grid(which='both')\n",
    "#with pd.option_context('display.max_rows', None, 'display.max_columns', None):\n",
    "#    display(focus)\n",
    "\n",
    "focus = df[['Date','Close']].iloc[s:e]\n",
    "focus.plot(grid=True,sharey=False)#,subplots=True)\n",
    "\n"
   ]
  },
  {
   "cell_type": "code",
   "execution_count": null,
   "metadata": {},
   "outputs": [],
   "source": [
    "s,e = 100,1000\n",
    "\n",
    "#focus = df[['Date','TMF_w','TMF_wa',\"TMF_4w_min\",\"TMF_8w_min\",\"TMF_26w_min\"]].iloc[s:e]\n",
    "focus = df[['Date','TMF_w',\"TMF_26w_min\",\"TMF_Simple_Signal\",\"debug_1\",\"TMF_26w_min_dd\"]].iloc[s:e]\n",
    "focus.plot(grid=True,sharey=False)#,subplots=True)\n",
    "#display(focus)"
   ]
  },
  {
   "cell_type": "markdown",
   "metadata": {},
   "source": [
    "# 20, 0.9 and 1.1"
   ]
  },
  {
   "cell_type": "code",
   "execution_count": null,
   "metadata": {},
   "outputs": [],
   "source": [
    "import duckdb as db\n",
    "with pd.option_context('display.max_rows', None, 'display.max_columns', None):\n",
    "    res = db.sql(\n",
    "    \"\"\"\n",
    "        select Date, gain_loss_ratio, entry_price, slip_price_col,exit_slipping_price\n",
    "        from df\n",
    "        where TMF_Simple_Signal == 1\n",
    "    \"\"\"\n",
    "    ).df()\n",
    "    res['cumulative_return'] = res['gain_loss_ratio'].cumprod()\n",
    "    \n",
    "    metrics = {\n",
    "        'win' : (res['gain_loss_ratio']>1).sum()\n",
    "        , 'avg_win_ratio' : res[res['gain_loss_ratio']>1]['gain_loss_ratio'].mean()\n",
    "        , 'loss' : (res['gain_loss_ratio']<1).sum()\n",
    "        , 'avg_loss_ratio' : res[res['gain_loss_ratio']<1]['gain_loss_ratio'].mean()\n",
    "    }\n",
    "    \n",
    "    print(metrics)\n",
    "    focus = res[['Date','cumulative_return','gain_loss_ratio']]\n",
    "    focus.plot()\n",
    "    display(focus)\n",
    "    "
   ]
  },
  {
   "cell_type": "markdown",
   "metadata": {},
   "source": [
    "# 0.95 and 1.05"
   ]
  },
  {
   "cell_type": "code",
   "execution_count": null,
   "metadata": {},
   "outputs": [],
   "source": [
    "import duckdb as db\n",
    "with pd.option_context('display.max_rows', None, 'display.max_columns', None):\n",
    "    res = db.sql(\n",
    "    \"\"\"\n",
    "        select Date, gain_loss_ratio, entry_price, slip_price_col,exit_slipping_price\n",
    "        from df\n",
    "        where TMF_Simple_Signal == 1\n",
    "    \"\"\"\n",
    "    ).df()\n",
    "    res['cumulative_return'] = res['gain_loss_ratio'].cumprod()\n",
    "    \n",
    "    metrics = {\n",
    "        'win' : (res['gain_loss_ratio']>1).sum()\n",
    "        , 'avg_win_ratio' : res[res['gain_loss_ratio']>1]['gain_loss_ratio'].mean()\n",
    "        , 'loss' : (res['gain_loss_ratio']<1).sum()\n",
    "        , 'avg_loss_ratio' : res[res['gain_loss_ratio']<1]['gain_loss_ratio'].mean()\n",
    "    }\n",
    "    \n",
    "    print(metrics)\n",
    "    focus = res[['Date','cumulative_return']]\n",
    "    focus.plot()\n",
    "    display(focus)\n",
    "    "
   ]
  },
  {
   "cell_type": "code",
   "execution_count": null,
   "metadata": {},
   "outputs": [],
   "source": [
    "with pd.option_context('display.max_rows', None, 'display.max_columns', None):\n",
    "    focus = df[['Date','TMF_w','TMF_wa',\"TMF_4w_min\"]].iloc[s:e]\n",
    "    display(focus)"
   ]
  },
  {
   "cell_type": "code",
   "execution_count": null,
   "metadata": {},
   "outputs": [],
   "source": [
    "s,e = -200,-100\n",
    "focus = df[['Date','TMF_w','TMF_wa',\"TMF_4w_min\"]].iloc[s:e]\n",
    "focus.plot(grid=True,sharey=False)#,subplots=True)\n",
    "focus = df[['Date','macd','macd_wa','macd_signal','macd_signal_wa']].iloc[s:e]\n",
    "focus.plot(grid=True,sharey=False)#,subplots=True)\n",
    "\n",
    "focus = df[['Date','Close']].iloc[s:e]\n",
    "focus.plot(grid=True,sharey=False)#,subplots=True)"
   ]
  },
  {
   "cell_type": "code",
   "execution_count": null,
   "metadata": {},
   "outputs": [],
   "source": [
    "import pandas as pd\n",
    "df = pd.read_csv(\"/home/sean/Projects/streambt/cba_debug.csv/part-00000-3f5f20f4-606b-42a2-a0d6-38578148d25d-c000.csv\")\n",
    "focus = df[['Date','Close','TMF']].iloc[-1000:]\n",
    "focus.plot(grid=True,sharey=False,subplots=True)"
   ]
  },
  {
   "cell_type": "code",
   "execution_count": null,
   "metadata": {},
   "outputs": [],
   "source": [
    "import pandas as pd\n",
    "df = pd.read_csv(\"/home/sean/Projects/streambt/cba_debug.csv/part-00000-91da4ac8-dbc5-4be7-a7a4-f77320b84478-c000.csv\")\n",
    "focus = df[['Date','Close','macd','macd_signal']].iloc[-2000:]\n",
    "focus.plot(grid=True,sharey=False,subplots=True)"
   ]
  },
  {
   "cell_type": "code",
   "execution_count": null,
   "metadata": {},
   "outputs": [],
   "source": [
    "import pandas as pd\n",
    "import plotly.express as px\n",
    "df = pd.read_csv(\"/home/sean/Projects/streambt/cba_debug.csv/part-00000-69195221-3c6c-459a-8eea-7eb5df0e8f4a-c000.csv\")\n",
    "focus = pd.melt(df[['Date','Close','ema_close_12','ema_close_26']].iloc[-1000:],id_vars=\"Date\")\n",
    "px.line(focus,x=\"Date\", y=\"value\",facet_row=\"variable\").show()\n",
    "#focus.plot(x=focus[\"Date\"],grid=True, figsize=(15,3))#,sharey=False,subplots=True)\n",
    "#focus = df[['Date','Close','ema_close_12','ema_close_26']].iloc[-2000:-1000]\n",
    "#px.line(focus,x=\"Date\", y=[\"Close\",'ema_close_12','ema_close_26']).show()\n",
    "\n",
    "#focus.plot(grid=True, figsize=(15,3))#,sharey=False,subplots=True)\n"
   ]
  }
 ],
 "metadata": {
  "language_info": {
   "name": "python",
   "pygments_lexer": "ipython3"
  }
 },
 "nbformat": 4,
 "nbformat_minor": 2
}
